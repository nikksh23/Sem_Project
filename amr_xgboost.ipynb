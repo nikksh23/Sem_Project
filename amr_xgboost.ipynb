import pandas as pd
import numpy as np
from xgboost import DMatrix, train
from sklearn.model_selection import train_test_split
from sklearn.metrics import mean_squared_error, roc_auc_score, roc_curve
import matplotlib.pyplot as plt
import seaborn as sns
from google.colab import drive
drive.mount('/content/gdrive')


data = pd.read_csv('/content/gdrive/My Drive/filtered_file_newcutoff.csv',low_memory=False)
data = data[data['G_value'] > 0.82]

def average_quadruplets(df, column_prefix):
    return df.filter(like=column_prefix).mean(axis=1)

data['CP_avg'] = average_quadruplets(data, "CP")
data['AMK_avg'] = average_quadruplets(data, "AMK")
data['NM_avg'] = average_quadruplets(data, "NM")
data['AZM_avg'] = average_quadruplets(data, "AZM")
data['TP_avg'] = average_quadruplets(data, "TP")
data['ENX_avg'] = average_quadruplets(data, "ENX")
data['CPFX_avg'] = average_quadruplets(data, "CPFX")
data['CFIX_avg'] = average_quadruplets(data, "CFIX")
data['DOXY_avg'] = average_quadruplets(data, "DOXY")
data['CPZ_avg'] = average_quadruplets(data, "CPZ")


required_columns = ['DOXY_avg', 'CPZ_avg', 'NM_avg', 'CP_avg', 'CPFX_avg', 'ENX_avg' ]
extracted_data = data[required_columns]


target_variable = "CPFX_avg"
features = [col for col in required_columns if col != target_variable]


X = extracted_data[features]
y = extracted_data[target_variable]

X_train, X_test, y_train, y_test = train_test_split(X, y, test_size=0.3, random_state=123)

train_matrix = DMatrix(data=X_train, label=y_train)
test_matrix = DMatrix(data=X_test, label=y_test)


params = {
    "objective": "reg:squarederror",
    "eta": 0.01,
    "max_depth": 8,
    "eval_metric": "rmse"
}

xgboost_model = train(
    params=params,
    dtrain=train_matrix,
    num_boost_round=500,
    evals=[(train_matrix, "train"), (test_matrix, "test")],
    verbose_eval=1
)


predictions = xgboost_model.predict(test_matrix)
rmse_value = np.sqrt(mean_squared_error(y_test, predictions))
print(f"RMSE: {rmse_value}")


ss_total = np.sum((y_test - np.mean(y_test))**2)
ss_residual = np.sum((y_test - predictions)**2)
r_squared = 1 - (ss_residual / ss_total)
print(f"R²: {r_squared}")


plt.figure(figsize=(8, 6))
sns.scatterplot(x=y_test, y=predictions, color="blue", alpha=0.6)
sns.regplot(x=y_test, y=predictions, scatter=False, color="red")
plt.title("Predicted vs Actual Values")
plt.xlabel("Actual Values")
plt.ylabel("Predicted Values")
plt.grid()
plt.show()


threshold = np.mean(y_test)
binary_actuals = (y_test > threshold).astype(int)
binary_predictions = (predictions > threshold).astype(int)


fpr, tpr, _ = roc_curve(binary_actuals, predictions)
auc_value = roc_auc_score(binary_actuals, predictions)
print(f"AUC: {auc_value}")

plt.figure(figsize=(8, 6))
plt.plot(fpr, tpr, color="blue", label=f"AUC = {auc_value:.2f}")
plt.title("ROC Curve")
plt.xlabel("False Positive Rate")
plt.ylabel("True Positive Rate")
plt.legend()
plt.grid()
plt.show()
